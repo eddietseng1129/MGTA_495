{
 "cells": [
  {
   "cell_type": "code",
   "execution_count": 1,
   "metadata": {},
   "outputs": [
    {
     "name": "stdout",
     "output_type": "stream",
     "text": [
      "The history saving thread hit an unexpected error (DatabaseError('database disk image is malformed',)).History will not be written to the database.\n"
     ]
    }
   ],
   "source": [
    "import pyspark\n",
    "import os.path\n",
    "\n",
    "from pyspark import SparkContext\n",
    "from pyspark.sql import SQLContext\n",
    "from pyspark.sql import SparkSession\n",
    "import pyspark.sql.functions as f\n",
    "from getpass import getpass\n",
    "import pandas as pd\n",
    "import pickle"
   ]
  },
  {
   "cell_type": "code",
   "execution_count": 2,
   "metadata": {},
   "outputs": [
    {
     "name": "stdout",
     "output_type": "stream",
     "text": [
      "2.4.0\n",
      "<module 'pyspark.version' from '/anaconda3/lib/python3.6/site-packages/pyspark/version.py'>\n"
     ]
    },
    {
     "data": {
      "text/plain": [
       "dict_items([('spark.app.name', 'Spark Data Exploration')])"
      ]
     },
     "execution_count": 2,
     "metadata": {},
     "output_type": "execute_result"
    }
   ],
   "source": [
    "conf = pyspark.SparkConf().setAll([('spark.app.name', 'Spark Data Exploration')])\n",
    "spark = SparkSession.builder.config(conf=conf).getOrCreate()\n",
    "\n",
    "print (spark.version)\n",
    "print (pyspark.version)\n",
    "\n",
    "conf.getAll()"
   ]
  },
  {
   "cell_type": "code",
   "execution_count": 3,
   "metadata": {},
   "outputs": [],
   "source": [
    "fpathA = 'ecommerce/order_items_dataset.csv'\n",
    "fpathB = 'ecommerce/customers_dataset.csv'\n",
    "fpathC = 'ecommerce/geolocation_dataset.csv'\n",
    "fpathD = 'ecommerce/order_payments_dataset.csv'\n",
    "fpathE = 'ecommerce/orders_dataset.csv'\n",
    "fpathF = 'ecommerce/products_dataset.csv'\n",
    "fpathG = 'ecommerce/sellers_dataset.csv'\n",
    "fpathH = 'ecommerce/product_category_name_translation.csv'\n",
    "fpathI = 'ecommerce/customer_reviews_dataset.csv'\n",
    "\n",
    "orders = pd.read_csv(fpathE)\n",
    "orderItems = pd.read_csv(fpathA)\n",
    "customerReviews = pd.read_csv(fpathI)\n",
    "products = pd.read_csv(fpathF)"
   ]
  },
  {
   "cell_type": "code",
   "execution_count": 4,
   "metadata": {},
   "outputs": [],
   "source": [
    "from datetime import  datetime\n",
    "orders['order_estimated_delivery_date'] = pd.to_datetime(orders['order_estimated_delivery_date'])\n",
    "orders['order_customer_delivery_date'] = pd.to_datetime(orders['order_customer_delivery_date'])\n",
    "duration = (orders.order_customer_delivery_date - orders.order_estimated_delivery_date).astype(int)\n",
    "duration = pd.Series.to_frame(duration)\n",
    "orders['duration'] = duration"
   ]
  },
  {
   "cell_type": "code",
   "execution_count": 5,
   "metadata": {},
   "outputs": [],
   "source": [
    "mergedOrdersDF = orders[['order_id', 'order_status', 'duration']]\n",
    "orderItemsDF = orderItems[['order_id', 'product_id', 'price', 'freight_value']]\n",
    "customerReviewsDF = customerReviews[['order_id', 'survey_score']]\n",
    "productDF = products[['product_id', 'product_category_name']]"
   ]
  },
  {
   "cell_type": "code",
   "execution_count": 6,
   "metadata": {},
   "outputs": [],
   "source": [
    "tempDF = orderItemsDF.merge(productDF, on=['product_id'], how='outer')\n",
    "tempDF2 =  mergedOrdersDF.merge(tempDF, on=['order_id'], how='outer')\n",
    "mergedDF = customerReviewsDF.merge(tempDF2, on=['order_id'], how='outer')"
   ]
  },
  {
   "cell_type": "code",
   "execution_count": 7,
   "metadata": {},
   "outputs": [
    {
     "data": {
      "text/plain": [
       "order_id                 114100\n",
       "survey_score             114100\n",
       "order_status             114100\n",
       "duration                 114100\n",
       "product_id               113322\n",
       "price                    113322\n",
       "freight_value            113322\n",
       "product_category_name    111710\n",
       "dtype: int64"
      ]
     },
     "execution_count": 7,
     "metadata": {},
     "output_type": "execute_result"
    }
   ],
   "source": [
    "mergedDF.count()"
   ]
  },
  {
   "cell_type": "code",
   "execution_count": 8,
   "metadata": {},
   "outputs": [
    {
     "data": {
      "text/plain": [
       "survey_score             111710\n",
       "order_status             111710\n",
       "duration                 111710\n",
       "product_id               111710\n",
       "price                    111710\n",
       "freight_value            111710\n",
       "product_category_name    111710\n",
       "dtype: int64"
      ]
     },
     "execution_count": 8,
     "metadata": {},
     "output_type": "execute_result"
    }
   ],
   "source": [
    "mergedDF = mergedDF.dropna(how='any')\n",
    "mergedDF = mergedDF[['survey_score', 'order_status', 'duration', 'product_id', 'price', 'freight_value', 'product_category_name']]\n",
    "mergedDF.count()"
   ]
  },
  {
   "cell_type": "code",
   "execution_count": 33,
   "metadata": {},
   "outputs": [],
   "source": [
    "from keras import Model\n",
    "from keras.layers import Dense\n",
    "from keras.layers import Dropout\n",
    "from keras_pandas.Automater import Automater\n",
    "from sklearn.model_selection import train_test_split\n",
    "from sklearn.preprocessing import StandardScaler\n",
    "import numpy as np\n",
    "import warnings\n",
    "warnings.filterwarnings(\"ignore\")"
   ]
  },
  {
   "cell_type": "code",
   "execution_count": 10,
   "metadata": {},
   "outputs": [
    {
     "data": {
      "text/html": [
       "<div>\n",
       "<style scoped>\n",
       "    .dataframe tbody tr th:only-of-type {\n",
       "        vertical-align: middle;\n",
       "    }\n",
       "\n",
       "    .dataframe tbody tr th {\n",
       "        vertical-align: top;\n",
       "    }\n",
       "\n",
       "    .dataframe thead th {\n",
       "        text-align: right;\n",
       "    }\n",
       "</style>\n",
       "<table border=\"1\" class=\"dataframe\">\n",
       "  <thead>\n",
       "    <tr style=\"text-align: right;\">\n",
       "      <th></th>\n",
       "      <th>survey_score</th>\n",
       "      <th>order_status</th>\n",
       "      <th>duration</th>\n",
       "      <th>product_id</th>\n",
       "      <th>price</th>\n",
       "      <th>freight_value</th>\n",
       "      <th>product_category_name</th>\n",
       "    </tr>\n",
       "  </thead>\n",
       "  <tbody>\n",
       "    <tr>\n",
       "      <th>17973</th>\n",
       "      <td>5</td>\n",
       "      <td>delivered</td>\n",
       "      <td>-332859000000000</td>\n",
       "      <td>c6a988c762b18da642d772a1f1ddb782</td>\n",
       "      <td>25.00</td>\n",
       "      <td>21.15</td>\n",
       "      <td>utilidades_domesticas</td>\n",
       "    </tr>\n",
       "    <tr>\n",
       "      <th>36157</th>\n",
       "      <td>4</td>\n",
       "      <td>delivered</td>\n",
       "      <td>-463645000000000</td>\n",
       "      <td>2481a472d98c582b46bc2dfeae6f539f</td>\n",
       "      <td>59.55</td>\n",
       "      <td>13.44</td>\n",
       "      <td>moveis_decoracao</td>\n",
       "    </tr>\n",
       "    <tr>\n",
       "      <th>85937</th>\n",
       "      <td>5</td>\n",
       "      <td>delivered</td>\n",
       "      <td>-1545233000000000</td>\n",
       "      <td>f32af0a8b0bcb05b60f05e8907ad8866</td>\n",
       "      <td>29.90</td>\n",
       "      <td>14.52</td>\n",
       "      <td>moveis_decoracao</td>\n",
       "    </tr>\n",
       "    <tr>\n",
       "      <th>65627</th>\n",
       "      <td>5</td>\n",
       "      <td>delivered</td>\n",
       "      <td>-1317205000000000</td>\n",
       "      <td>99a4788cb24856965c36a24e339b6058</td>\n",
       "      <td>79.90</td>\n",
       "      <td>23.36</td>\n",
       "      <td>cama_mesa_banho</td>\n",
       "    </tr>\n",
       "    <tr>\n",
       "      <th>108543</th>\n",
       "      <td>5</td>\n",
       "      <td>delivered</td>\n",
       "      <td>-1134083000000000</td>\n",
       "      <td>368c6c730842d78016ad823897a372db</td>\n",
       "      <td>49.90</td>\n",
       "      <td>13.37</td>\n",
       "      <td>ferramentas_jardim</td>\n",
       "    </tr>\n",
       "  </tbody>\n",
       "</table>\n",
       "</div>"
      ],
      "text/plain": [
       "        survey_score order_status          duration  \\\n",
       "17973              5    delivered  -332859000000000   \n",
       "36157              4    delivered  -463645000000000   \n",
       "85937              5    delivered -1545233000000000   \n",
       "65627              5    delivered -1317205000000000   \n",
       "108543             5    delivered -1134083000000000   \n",
       "\n",
       "                              product_id  price  freight_value  \\\n",
       "17973   c6a988c762b18da642d772a1f1ddb782  25.00          21.15   \n",
       "36157   2481a472d98c582b46bc2dfeae6f539f  59.55          13.44   \n",
       "85937   f32af0a8b0bcb05b60f05e8907ad8866  29.90          14.52   \n",
       "65627   99a4788cb24856965c36a24e339b6058  79.90          23.36   \n",
       "108543  368c6c730842d78016ad823897a372db  49.90          13.37   \n",
       "\n",
       "        product_category_name  \n",
       "17973   utilidades_domesticas  \n",
       "36157        moveis_decoracao  \n",
       "85937        moveis_decoracao  \n",
       "65627         cama_mesa_banho  \n",
       "108543     ferramentas_jardim  "
      ]
     },
     "execution_count": 10,
     "metadata": {},
     "output_type": "execute_result"
    }
   ],
   "source": [
    "# Train /test split\n",
    "train_observations, test_observations = train_test_split(mergedDF, test_size=0.001, random_state=42)\n",
    "train_observations = train_observations.copy()\n",
    "test_observations = test_observations.copy()\n",
    "train_observations.head()"
   ]
  },
  {
   "cell_type": "code",
   "execution_count": 109,
   "metadata": {
    "scrolled": false
   },
   "outputs": [
    {
     "name": "stdout",
     "output_type": "stream",
     "text": [
      "Train on 100438 samples, validate on 11160 samples\n",
      "Epoch 1/10\n",
      "100438/100438 [==============================] - 48s 481us/step - loss: 0.9554 - mean_squared_error: 0.9554 - mean_absolute_error: 0.7730 - val_loss: 0.9294 - val_mean_squared_error: 0.9294 - val_mean_absolute_error: 0.7686\n",
      "Epoch 2/10\n",
      "100438/100438 [==============================] - 41s 412us/step - loss: 0.9317 - mean_squared_error: 0.9317 - mean_absolute_error: 0.7635 - val_loss: 0.9279 - val_mean_squared_error: 0.9279 - val_mean_absolute_error: 0.7552\n",
      "Epoch 3/10\n",
      "100438/100438 [==============================] - 41s 412us/step - loss: 0.9142 - mean_squared_error: 0.9142 - mean_absolute_error: 0.7548 - val_loss: 0.9281 - val_mean_squared_error: 0.9281 - val_mean_absolute_error: 0.7629\n",
      "Epoch 4/10\n",
      "100438/100438 [==============================] - 42s 416us/step - loss: 0.9005 - mean_squared_error: 0.9005 - mean_absolute_error: 0.7471 - val_loss: 0.9250 - val_mean_squared_error: 0.9250 - val_mean_absolute_error: 0.7611\n",
      "Epoch 5/10\n",
      "100438/100438 [==============================] - 42s 423us/step - loss: 0.8891 - mean_squared_error: 0.8891 - mean_absolute_error: 0.7407 - val_loss: 0.9292 - val_mean_squared_error: 0.9292 - val_mean_absolute_error: 0.7551\n",
      "Epoch 6/10\n",
      "100438/100438 [==============================] - 42s 416us/step - loss: 0.8817 - mean_squared_error: 0.8817 - mean_absolute_error: 0.7366 - val_loss: 0.9302 - val_mean_squared_error: 0.9302 - val_mean_absolute_error: 0.7588\n",
      "Epoch 7/10\n",
      "100438/100438 [==============================] - 42s 419us/step - loss: 0.8734 - mean_squared_error: 0.8734 - mean_absolute_error: 0.7325 - val_loss: 0.9335 - val_mean_squared_error: 0.9335 - val_mean_absolute_error: 0.7611\n",
      "Epoch 8/10\n",
      "100438/100438 [==============================] - 42s 417us/step - loss: 0.8668 - mean_squared_error: 0.8668 - mean_absolute_error: 0.7291 - val_loss: 0.9304 - val_mean_squared_error: 0.9304 - val_mean_absolute_error: 0.7685\n",
      "Epoch 9/10\n",
      "100438/100438 [==============================] - 40s 403us/step - loss: 0.8608 - mean_squared_error: 0.8608 - mean_absolute_error: 0.7258 - val_loss: 0.9316 - val_mean_squared_error: 0.9316 - val_mean_absolute_error: 0.7672\n",
      "Epoch 10/10\n",
      "100438/100438 [==============================] - 39s 393us/step - loss: 0.8573 - mean_squared_error: 0.8573 - mean_absolute_error: 0.7245 - val_loss: 0.9277 - val_mean_squared_error: 0.9277 - val_mean_absolute_error: 0.7638\n"
     ]
    }
   ],
   "source": [
    "# Transform the data set, using keras_pandas\n",
    "categorical_vars = ['order_status', 'product_category_name']\n",
    "numerical_vars = ['duration', 'price', 'freight_value', 'survey_score']\n",
    "text_vars = ['product_id']\n",
    "\n",
    "data_type_dict = {'numerical': numerical_vars, 'categorical': categorical_vars, 'text': text_vars}\n",
    "output_var = 'survey_score'\n",
    "auto = Automater(data_type_dict=data_type_dict, output_var=output_var)\n",
    "auto.fit(train_observations)\n",
    "\n",
    "# Transform data\n",
    "# scaler = StandardScaler()\n",
    "train_X, train_y = auto.fit_transform(train_observations)\n",
    "test_X, test_y = auto.transform(test_observations)\n",
    "# train_X = scaler.fit_transform(train_X)\n",
    "# temp = np.asarray(train_X)\n",
    "# train_X, train_y = makeOverSamplesSMOTE(tempX.T, train_y)\n",
    "\n",
    "# Create and fit keras (deep learning) model.\n",
    "x = auto.input_nub\n",
    "\n",
    "# Fill in your own hidden layers\n",
    "# x = Dense(14, kernel_initializer='normal')(x)\n",
    "# x = Dropout(rate= 0.1)(x)\n",
    "x = Dense(12, activation = 'relu', kernel_initializer = 'uniform')(x)\n",
    "x = Dropout(rate= 0.2)(x)\n",
    "x = Dense(6, activation='relu', kernel_initializer = 'uniform')(x)\n",
    "x = Dropout(rate= 0.2)(x)\n",
    "x = Dense(1, activation='linear', kernel_initializer = 'uniform')(x)\n",
    "\n",
    "x = auto.output_nub(x)\n",
    "\n",
    "model = Model(inputs=auto.input_layers, outputs=x)\n",
    "model.compile(loss=auto.suggest_loss(), optimizer='adam', metrics=['mse','mae'])\n",
    "history = model.fit(train_X, train_y, epochs=10, batch_size=150, validation_split=.1)"
   ]
  },
  {
   "cell_type": "code",
   "execution_count": 110,
   "metadata": {},
   "outputs": [
    {
     "name": "stdout",
     "output_type": "stream",
     "text": [
      "dict_keys(['val_loss', 'val_mean_squared_error', 'val_mean_absolute_error', 'loss', 'mean_squared_error', 'mean_absolute_error'])\n"
     ]
    },
    {
     "data": {
      "image/png": "[encoded data removed]",
      "text/plain": [
       "<Figure size 432x288 with 1 Axes>"
      ]
     },
     "metadata": {
      "needs_background": "light"
     },
     "output_type": "display_data"
    }
   ],
   "source": [
    "print(history.history.keys())\n",
    "# \"Loss\"\n",
    "import matplotlib.pyplot as plt\n",
    "plt.plot(history.history['loss'])\n",
    "plt.plot(history.history['val_loss'])\n",
    "plt.title('CNN model loss')\n",
    "plt.ylabel('loss')\n",
    "plt.xlabel('epoch')\n",
    "plt.legend(['train', 'validation'], loc='upper right')\n",
    "plt.show()"
   ]
  },
  {
   "cell_type": "code",
   "execution_count": 99,
   "metadata": {
    "scrolled": true
   },
   "outputs": [],
   "source": [
    "# make a prediction\n",
    "preds = model.predict(test_X)\n",
    "# print(len(test_X[0]))\n",
    "# print(len(test_Y))\n",
    "# show the inputs and predicted outputs\n",
    "predict = []\n",
    "for i in range(len(test_X[0])):\n",
    "    predict.append((preds[i]))"
   ]
  },
  {
   "cell_type": "code",
   "execution_count": 100,
   "metadata": {},
   "outputs": [
    {
     "data": {
      "image/png": "[encoded data removed]",
      "text/plain": [
       "<Figure size 432x288 with 1 Axes>"
      ]
     },
     "metadata": {
      "needs_background": "light"
     },
     "output_type": "display_data"
    }
   ],
   "source": [
    "n, bins, patches = plt.hist(predict, density=True, facecolor='g', alpha=0.75)\n",
    "plt.show()"
   ]
  },
  {
   "cell_type": "code",
   "execution_count": null,
   "metadata": {},
   "outputs": [],
   "source": []
  }
 ],
 "metadata": {
  "kernelspec": {
   "display_name": "Python 3",
   "language": "python",
   "name": "python3"
  },
  "language_info": {
   "codemirror_mode": {
    "name": "ipython",
    "version": 3
   },
   "file_extension": ".py",
   "mimetype": "text/x-python",
   "name": "python",
   "nbconvert_exporter": "python",
   "pygments_lexer": "ipython3",
   "version": "3.6.0"
  }
 },
 "nbformat": 4,
 "nbformat_minor": 2
}
