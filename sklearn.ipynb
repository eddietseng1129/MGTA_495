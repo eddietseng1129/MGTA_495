{
 "cells": [
  {
   "cell_type": "code",
   "execution_count": 1,
   "metadata": {},
   "outputs": [
    {
     "name": "stdout",
     "output_type": "stream",
     "text": [
      "The history saving thread hit an unexpected error (DatabaseError('database disk image is malformed',)).History will not be written to the database.\n"
     ]
    }
   ],
   "source": [
    "import pyspark\n",
    "import os.path\n",
    "\n",
    "from pyspark import SparkContext\n",
    "from pyspark.sql import SQLContext\n",
    "from pyspark.sql import SparkSession\n",
    "import pyspark.sql.functions as f\n",
    "from getpass import getpass\n",
    "import pandas as pd\n",
    "import pickle"
   ]
  },
  {
   "cell_type": "code",
   "execution_count": 2,
   "metadata": {},
   "outputs": [],
   "source": [
    "fpathA = 'ecommerce/order_items_dataset.csv'\n",
    "fpathB = 'ecommerce/customers_dataset.csv'\n",
    "fpathC = 'ecommerce/geolocation_dataset.csv'\n",
    "fpathD = 'ecommerce/order_payments_dataset.csv'\n",
    "fpathE = 'ecommerce/orders_dataset.csv'\n",
    "fpathF = 'ecommerce/products_dataset.csv'\n",
    "fpathG = 'ecommerce/sellers_dataset.csv'\n",
    "fpathH = 'ecommerce/product_category_name_translation.csv'\n",
    "fpathI = 'ecommerce/customer_reviews_dataset.csv'\n",
    "\n",
    "orders = pd.read_csv(fpathE)\n",
    "orderItems = pd.read_csv(fpathA)\n",
    "customerReviews = pd.read_csv(fpathI)\n",
    "products = pd.read_csv(fpathF)"
   ]
  },
  {
   "cell_type": "code",
   "execution_count": 3,
   "metadata": {},
   "outputs": [],
   "source": [
    "from datetime import  datetime\n",
    "orders['order_estimated_delivery_date'] = pd.to_datetime(orders['order_estimated_delivery_date'])\n",
    "orders['order_customer_delivery_date'] = pd.to_datetime(orders['order_customer_delivery_date'])\n",
    "duration = (orders.order_customer_delivery_date - orders.order_estimated_delivery_date).astype(int)\n",
    "duration = pd.Series.to_frame(duration)\n",
    "orders['duration'] = duration"
   ]
  },
  {
   "cell_type": "code",
   "execution_count": 4,
   "metadata": {},
   "outputs": [],
   "source": [
    "mergedOrdersDF = orders[['order_id', 'order_status', 'duration']]\n",
    "orderItemsDF = orderItems[['order_id', 'product_id', 'price', 'freight_value']]\n",
    "customerReviewsDF = customerReviews[['order_id', 'survey_score']]\n",
    "productDF = products[['product_id', 'product_category_name']]"
   ]
  },
  {
   "cell_type": "code",
   "execution_count": 5,
   "metadata": {},
   "outputs": [],
   "source": [
    "tempDF = orderItemsDF.merge(productDF, on=['product_id'], how='outer')\n",
    "tempDF2 =  mergedOrdersDF.merge(tempDF, on=['order_id'], how='outer')\n",
    "mergedDF = customerReviewsDF.merge(tempDF2, on=['order_id'], how='outer')"
   ]
  },
  {
   "cell_type": "code",
   "execution_count": 6,
   "metadata": {},
   "outputs": [
    {
     "data": {
      "text/plain": [
       "order_id                 114100\n",
       "survey_score             114100\n",
       "order_status             114100\n",
       "duration                 114100\n",
       "product_id               113322\n",
       "price                    113322\n",
       "freight_value            113322\n",
       "product_category_name    111710\n",
       "dtype: int64"
      ]
     },
     "execution_count": 6,
     "metadata": {},
     "output_type": "execute_result"
    }
   ],
   "source": [
    "mergedDF.count()"
   ]
  },
  {
   "cell_type": "code",
   "execution_count": 7,
   "metadata": {},
   "outputs": [
    {
     "data": {
      "text/plain": [
       "survey_score             111710\n",
       "order_status             111710\n",
       "duration                 111710\n",
       "product_id               111710\n",
       "price                    111710\n",
       "freight_value            111710\n",
       "product_category_name    111710\n",
       "dtype: int64"
      ]
     },
     "execution_count": 7,
     "metadata": {},
     "output_type": "execute_result"
    }
   ],
   "source": [
    "mergedDF = mergedDF.dropna(how='any')\n",
    "mergedDF = mergedDF[['survey_score', 'order_status', 'duration', 'product_id', 'price', 'freight_value', 'product_category_name']]\n",
    "mergedDF.count()"
   ]
  },
  {
   "cell_type": "code",
   "execution_count": 8,
   "metadata": {},
   "outputs": [
    {
     "name": "stderr",
     "output_type": "stream",
     "text": [
      "Using TensorFlow backend.\n"
     ]
    }
   ],
   "source": [
    "from keras import Model\n",
    "from keras.layers import Dense\n",
    "from keras.layers import Dropout\n",
    "from keras_pandas.Automater import Automater\n",
    "from sklearn import datasets, linear_model\n",
    "from sklearn.metrics import mean_squared_error, r2_score\n",
    "from sklearn.model_selection import train_test_split\n",
    "from sklearn.preprocessing import StandardScaler\n",
    "\n",
    "import warnings\n",
    "warnings.filterwarnings(\"ignore\")"
   ]
  },
  {
   "cell_type": "code",
   "execution_count": 9,
   "metadata": {},
   "outputs": [
    {
     "data": {
      "text/html": [
       "<div>\n",
       "<style scoped>\n",
       "    .dataframe tbody tr th:only-of-type {\n",
       "        vertical-align: middle;\n",
       "    }\n",
       "\n",
       "    .dataframe tbody tr th {\n",
       "        vertical-align: top;\n",
       "    }\n",
       "\n",
       "    .dataframe thead th {\n",
       "        text-align: right;\n",
       "    }\n",
       "</style>\n",
       "<table border=\"1\" class=\"dataframe\">\n",
       "  <thead>\n",
       "    <tr style=\"text-align: right;\">\n",
       "      <th></th>\n",
       "      <th>survey_score</th>\n",
       "      <th>order_status</th>\n",
       "      <th>duration</th>\n",
       "      <th>product_id</th>\n",
       "      <th>price</th>\n",
       "      <th>freight_value</th>\n",
       "      <th>product_category_name</th>\n",
       "    </tr>\n",
       "  </thead>\n",
       "  <tbody>\n",
       "    <tr>\n",
       "      <th>97592</th>\n",
       "      <td>5</td>\n",
       "      <td>delivered</td>\n",
       "      <td>-448290000000000</td>\n",
       "      <td>6e4d0d0f95ee20729970abe6ad1bbe39</td>\n",
       "      <td>79.90</td>\n",
       "      <td>16.81</td>\n",
       "      <td>utilidades_domesticas</td>\n",
       "    </tr>\n",
       "    <tr>\n",
       "      <th>82644</th>\n",
       "      <td>5</td>\n",
       "      <td>delivered</td>\n",
       "      <td>-1061294000000000</td>\n",
       "      <td>8c19dcc6a7f4c4259c45514b974b6441</td>\n",
       "      <td>65.00</td>\n",
       "      <td>52.81</td>\n",
       "      <td>perfumaria</td>\n",
       "    </tr>\n",
       "    <tr>\n",
       "      <th>7501</th>\n",
       "      <td>4</td>\n",
       "      <td>delivered</td>\n",
       "      <td>-785871000000000</td>\n",
       "      <td>5bd6493a2d5a384987386f2696bae33d</td>\n",
       "      <td>18.98</td>\n",
       "      <td>15.10</td>\n",
       "      <td>telefonia</td>\n",
       "    </tr>\n",
       "    <tr>\n",
       "      <th>55378</th>\n",
       "      <td>5</td>\n",
       "      <td>delivered</td>\n",
       "      <td>-708602000000000</td>\n",
       "      <td>ec2d43cc59763ec91694573b31f1c29a</td>\n",
       "      <td>45.90</td>\n",
       "      <td>16.11</td>\n",
       "      <td>cama_mesa_banho</td>\n",
       "    </tr>\n",
       "    <tr>\n",
       "      <th>63200</th>\n",
       "      <td>2</td>\n",
       "      <td>delivered</td>\n",
       "      <td>-376267000000000</td>\n",
       "      <td>6e0b3bc6a8bcfcca9005f9d220fe4af8</td>\n",
       "      <td>76.80</td>\n",
       "      <td>11.74</td>\n",
       "      <td>moveis_decoracao</td>\n",
       "    </tr>\n",
       "  </tbody>\n",
       "</table>\n",
       "</div>"
      ],
      "text/plain": [
       "       survey_score order_status          duration  \\\n",
       "97592             5    delivered  -448290000000000   \n",
       "82644             5    delivered -1061294000000000   \n",
       "7501              4    delivered  -785871000000000   \n",
       "55378             5    delivered  -708602000000000   \n",
       "63200             2    delivered  -376267000000000   \n",
       "\n",
       "                             product_id  price  freight_value  \\\n",
       "97592  6e4d0d0f95ee20729970abe6ad1bbe39  79.90          16.81   \n",
       "82644  8c19dcc6a7f4c4259c45514b974b6441  65.00          52.81   \n",
       "7501   5bd6493a2d5a384987386f2696bae33d  18.98          15.10   \n",
       "55378  ec2d43cc59763ec91694573b31f1c29a  45.90          16.11   \n",
       "63200  6e0b3bc6a8bcfcca9005f9d220fe4af8  76.80          11.74   \n",
       "\n",
       "       product_category_name  \n",
       "97592  utilidades_domesticas  \n",
       "82644             perfumaria  \n",
       "7501               telefonia  \n",
       "55378        cama_mesa_banho  \n",
       "63200       moveis_decoracao  "
      ]
     },
     "execution_count": 9,
     "metadata": {},
     "output_type": "execute_result"
    }
   ],
   "source": [
    "# Train /test split\n",
    "train_observations, test_observations = train_test_split(mergedDF, test_size=0.1, random_state=42)\n",
    "train_observations = train_observations.copy()\n",
    "test_observations = test_observations.copy()\n",
    "train_observations.head()"
   ]
  },
  {
   "cell_type": "code",
   "execution_count": null,
   "metadata": {},
   "outputs": [],
   "source": []
  }
 ],
 "metadata": {
  "kernelspec": {
   "display_name": "Python 3",
   "language": "python",
   "name": "python3"
  },
  "language_info": {
   "codemirror_mode": {
    "name": "ipython",
    "version": 3
   },
   "file_extension": ".py",
   "mimetype": "text/x-python",
   "name": "python",
   "nbconvert_exporter": "python",
   "pygments_lexer": "ipython3",
   "version": "3.6.0"
  }
 },
 "nbformat": 4,
 "nbformat_minor": 2
}
