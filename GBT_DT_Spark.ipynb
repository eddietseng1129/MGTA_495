{
 "cells": [
  {
   "cell_type": "code",
   "execution_count": 1,
   "metadata": {},
   "outputs": [
    {
     "name": "stdout",
     "output_type": "stream",
     "text": [
      "The history saving thread hit an unexpected error (DatabaseError('database disk image is malformed',)).History will not be written to the database.\n"
     ]
    }
   ],
   "source": [
    "import pyspark\n",
    "import os.path\n",
    "\n",
    "from pyspark import SparkContext\n",
    "from pyspark.sql import SQLContext\n",
    "from pyspark.sql import SparkSession\n",
    "import pyspark.sql.functions as f\n",
    "from getpass import getpass\n",
    "import pandas as pd\n",
    "import pickle"
   ]
  },
  {
   "cell_type": "code",
   "execution_count": 2,
   "metadata": {},
   "outputs": [
    {
     "name": "stdout",
     "output_type": "stream",
     "text": [
      "2.3.2\n",
      "<module 'pyspark.version' from '/usr/local/lib/python3.6/dist-packages/pyspark/version.py'>\n"
     ]
    },
    {
     "data": {
      "text/plain": [
       "dict_items([('spark.app.name', 'Spark Data Exploration'), ('spark.driver.memory', '1g'), ('spark.executor.memory', '2048g')])"
      ]
     },
     "execution_count": 2,
     "metadata": {},
     "output_type": "execute_result"
    }
   ],
   "source": [
    "conf = pyspark.SparkConf().setAll([('spark.app.name', 'Spark Data Exploration'),('spark.driver.memory','1g'),\n",
    "                                  ('spark.executor.memory', '2048g')])\n",
    "spark = SparkSession.builder.config(conf=conf).getOrCreate()\n",
    "\n",
    "print (spark.version)\n",
    "print (pyspark.version)\n",
    "\n",
    "conf.getAll()"
   ]
  },
  {
   "cell_type": "code",
   "execution_count": 3,
   "metadata": {},
   "outputs": [],
   "source": [
    "fpathA = 'ecommerce/order_items_dataset.csv'\n",
    "fpathB = 'ecommerce/customers_dataset.csv'\n",
    "fpathC = 'ecommerce/geolocation_dataset.csv'\n",
    "fpathD = 'ecommerce/order_payments_dataset.csv'\n",
    "fpathE = 'ecommerce/orders_dataset.csv'\n",
    "fpathF = 'ecommerce/products_dataset.csv'\n",
    "fpathG = 'ecommerce/sellers_dataset.csv'\n",
    "fpathH = 'ecommerce/product_category_name_translation.csv'\n",
    "fpathI = 'ecommerce/customer_reviews_dataset.csv'\n",
    "\n",
    "orders = spark.read.csv(fpathE, inferSchema=\"true\", header=\"true\")\n",
    "orderItems = spark.read.csv(fpathA, inferSchema=\"true\", header=\"true\")\n",
    "customerReviews = spark.read.csv(fpathI, inferSchema=\"true\", header=\"true\")\n",
    "products = spark.read.csv(fpathF, inferSchema=\"true\", header=\"true\")\n",
    "# customers = spark.read.csv(fpathB, inferSchema=\"true\", header=\"true\")\n",
    "# orderPayments = spark.read.csv(fpathD, inferSchema=\"true\", header=\"true\")"
   ]
  },
  {
   "cell_type": "code",
   "execution_count": 4,
   "metadata": {},
   "outputs": [
    {
     "name": "stdout",
     "output_type": "stream",
     "text": [
      "orderItems rows:  112650\n",
      "order rows:  99441\n",
      "customerReviews rows:  105189\n",
      "products rows:  32951\n"
     ]
    }
   ],
   "source": [
    "print('orderItems rows: ', orderItems.count())\n",
    "print('order rows: ', orders.count())\n",
    "print('customerReviews rows: ', customerReviews.count())\n",
    "print('products rows: ', products.count())\n",
    "# print('orderPayments rows: ', orderPayments.count())\n",
    "# print('customers rows: ', customers.count())"
   ]
  },
  {
   "cell_type": "markdown",
   "metadata": {},
   "source": [
    "# Data preprocessing"
   ]
  },
  {
   "cell_type": "code",
   "execution_count": 5,
   "metadata": {},
   "outputs": [],
   "source": [
    "# print('Order')\n",
    "# orders.show(3)\n",
    "# print('Order items')\n",
    "# orderItems.show(3)\n",
    "# print('Customer reviews')\n",
    "# customerReviews.show(3)\n",
    "# print('products')\n",
    "# products.show(3)"
   ]
  },
  {
   "cell_type": "code",
   "execution_count": 6,
   "metadata": {},
   "outputs": [
    {
     "name": "stdout",
     "output_type": "stream",
     "text": [
      "+--------------------+----------------------------+-----------------------------+--------+\n",
      "|            order_id|order_customer_delivery_date|order_estimated_delivery_date|Duration|\n",
      "+--------------------+----------------------------+-----------------------------+--------+\n",
      "|e481f51cbdc54678b...|         2017-10-10 21:25:13|          2017-10-18 00:00:00|  614087|\n",
      "|53cdb2fc8bc7dce0b...|         2018-08-07 15:27:45|          2018-08-13 00:00:00|  462735|\n",
      "|47770eb9100c2d0c4...|         2018-08-17 18:06:29|          2018-09-04 00:00:00| 1490011|\n",
      "+--------------------+----------------------------+-----------------------------+--------+\n",
      "only showing top 3 rows\n",
      "\n"
     ]
    }
   ],
   "source": [
    "# calculate the difference between deliver time and estimate time \n",
    "timeFmt = \"yyyy-MM-dd HH:mm:ss\"\n",
    "timeDiff = (f.unix_timestamp('order_estimated_delivery_date', format=timeFmt)\n",
    "            - f.unix_timestamp('order_customer_delivery_date', format=timeFmt))\n",
    "diff = orders['order_id', 'order_customer_delivery_date', 'order_estimated_delivery_date'].dropna(how='any')\n",
    "diff = diff.withColumn(\"Duration\", timeDiff)\n",
    "diff.show(3)\n",
    "mergedOrders = orders.join(diff, on=['order_id'], how='inner')\n",
    "# mergedOrders.show(3)"
   ]
  },
  {
   "cell_type": "code",
   "execution_count": 7,
   "metadata": {},
   "outputs": [
    {
     "name": "stdout",
     "output_type": "stream",
     "text": [
      "# of rows in mergedOrdersDF:  96476\n",
      "# of rows in orderItemsDF:  112650\n",
      "# of rows in customerReviewsDF:  105189\n",
      "# of rows in productDF:  32951\n"
     ]
    }
   ],
   "source": [
    "colNames_order = ['order_id', 'order_status', 'Duration']\n",
    "colNames_items = ['order_id', 'product_id', 'price', 'freight_value'] # , 'order_item_id'\n",
    "colNames_reviews = ['order_id', 'survey_score'] # 'review_id'\n",
    "colNames_product = ['product_id', 'product_category_name']\n",
    "mergedOrdersDF = mergedOrders[colNames_order]\n",
    "orderItemsDF = orderItems[colNames_items]\n",
    "customerReviewsDF = customerReviews[colNames_reviews]\n",
    "productDF = products[colNames_product]\n",
    "print('# of rows in mergedOrdersDF: ', mergedOrdersDF.count())\n",
    "print('# of rows in orderItemsDF: ', orderItemsDF.count())\n",
    "print('# of rows in customerReviewsDF: ', customerReviewsDF.count())\n",
    "print('# of rows in productDF: ', productDF.count())"
   ]
  },
  {
   "cell_type": "code",
   "execution_count": 8,
   "metadata": {},
   "outputs": [
    {
     "name": "stdout",
     "output_type": "stream",
     "text": [
      "# of rows in mergedDF:  110847\n"
     ]
    }
   ],
   "source": [
    "# merge product and items with product_id\n",
    "tempDF = orderItemsDF.join(productDF, on=['product_id'], how='inner')\n",
    "# merge dataframe by aligning order_id\n",
    "tempDF2 =  mergedOrdersDF.join(tempDF, on=['order_id'], how='inner')\n",
    "mergedDF = customerReviewsDF.join(tempDF2, on=['order_id'], how='inner')\n",
    "# mergedDF.show(5)\n",
    "print('# of rows in mergedDF: ', mergedDF.count())"
   ]
  },
  {
   "cell_type": "markdown",
   "metadata": {},
   "source": [
    "### Clean mergedDF"
   ]
  },
  {
   "cell_type": "code",
   "execution_count": 9,
   "metadata": {},
   "outputs": [
    {
     "name": "stdout",
     "output_type": "stream",
     "text": [
      "# of rows remaining:  109302\n"
     ]
    }
   ],
   "source": [
    "# remove null\n",
    "cleanDF = mergedDF.dropna(how='any')\n",
    "print('# of rows remaining: ', cleanDF.count())"
   ]
  },
  {
   "cell_type": "markdown",
   "metadata": {},
   "source": [
    "### Data analytics"
   ]
  },
  {
   "cell_type": "code",
   "execution_count": 10,
   "metadata": {},
   "outputs": [
    {
     "name": "stdout",
     "output_type": "stream",
     "text": [
      "Unbalanced data\n"
     ]
    }
   ],
   "source": [
    "from pyspark.sql.types import DoubleType, IntegerType\n",
    "cleanDF = cleanDF.withColumn(\"survey_score\", cleanDF[\"survey_score\"].cast(DoubleType()))\n",
    "print('Unbalanced data')\n",
    "# cleanDF.select('survey_score').toPandas().hist()"
   ]
  },
  {
   "cell_type": "markdown",
   "metadata": {},
   "source": [
    "# Supervised learning"
   ]
  },
  {
   "cell_type": "code",
   "execution_count": 11,
   "metadata": {},
   "outputs": [
    {
     "name": "stdout",
     "output_type": "stream",
     "text": [
      "Number of features:  3\n",
      "Number of rows in cleaned DataFrame:  109302\n"
     ]
    }
   ],
   "source": [
    "# using order_id, product_id, review_id, price, freight_value to predict the survey_score\n",
    "featureCols = ['freight_value', 'Duration', 'price'] # 'order_id', 'order_item_id', 'product_id', , 'product_category_name'\n",
    "labelCol = 'survey_score'\n",
    "feature_data = cleanDF[featureCols + [labelCol]].dropna(how='any')\n",
    "print('Number of features: ', len(featureCols))\n",
    "print('Number of rows in cleaned DataFrame: ', feature_data.count())\n",
    "# changedTypedf = feature_data.withColumn(\"survey_score\", feature_data[\"survey_score\"].cast(DoubleType()))\n",
    "# changedTypedf.printSchema()\n",
    "# feature_data = changedTypedf"
   ]
  },
  {
   "cell_type": "code",
   "execution_count": 12,
   "metadata": {},
   "outputs": [
    {
     "name": "stdout",
     "output_type": "stream",
     "text": [
      "root\n",
      " |-- features: vector (nullable = true)\n",
      " |-- survey_score: double (nullable = true)\n",
      "\n"
     ]
    }
   ],
   "source": [
    "# onehot encoding for id\n",
    "from pyspark.ml import Pipeline\n",
    "from pyspark.ml.feature import StringIndexer, OneHotEncoder, VectorAssembler\n",
    "cols = featureCols\n",
    "# cols = ['product_id', 'freight_value', 'Duration', 'price', 'product_category_name'] # 'order_id', 'order_item_id', 'freight_value'\n",
    "\n",
    "indexers = [\n",
    "    StringIndexer(inputCol=c, outputCol=\"{0}_indexed\".format(c))\n",
    "    for c in cols\n",
    "]\n",
    "\n",
    "encoders = [\n",
    "    OneHotEncoder(\n",
    "        inputCol=indexer.getOutputCol(),\n",
    "        outputCol=\"{0}_encoded\".format(indexer.getOutputCol())) \n",
    "    for indexer in indexers\n",
    "]\n",
    "\n",
    "assembler = VectorAssembler(\n",
    "    inputCols=[encoder.getOutputCol() for encoder in encoders],\n",
    "    outputCol=\"features\"\n",
    ")\n",
    "\n",
    "\n",
    "pipeline = Pipeline(stages=indexers + encoders + [assembler])\n",
    "vector_data = pipeline.fit(feature_data).transform(feature_data)['features', labelCol]# .show(3)\n",
    "vector_data.printSchema()"
   ]
  },
  {
   "cell_type": "code",
   "execution_count": 13,
   "metadata": {},
   "outputs": [
    {
     "name": "stdout",
     "output_type": "stream",
     "text": [
      "+--------------------+------------+\n",
      "|            features|survey_score|\n",
      "+--------------------+------------+\n",
      "|(103383,[556,6797...|         5.0|\n",
      "|(103383,[869,8069...|         5.0|\n",
      "|(103383,[2588,307...|         5.0|\n",
      "|(103383,[129,2195...|         4.0|\n",
      "|(103383,[37,24457...|         5.0|\n",
      "+--------------------+------------+\n",
      "only showing top 5 rows\n",
      "\n"
     ]
    }
   ],
   "source": [
    "vector_data.distinct().show(5)"
   ]
  },
  {
   "cell_type": "markdown",
   "metadata": {},
   "source": [
    "### Split Data"
   ]
  },
  {
   "cell_type": "code",
   "execution_count": 14,
   "metadata": {},
   "outputs": [
    {
     "name": "stdout",
     "output_type": "stream",
     "text": [
      "trainDF\n",
      "+--------------------+------------+\n",
      "|            features|survey_score|\n",
      "+--------------------+------------+\n",
      "|(103383,[0,14817,...|         5.0|\n",
      "|(103383,[0,14817,...|         5.0|\n",
      "|(103383,[0,15427,...|         5.0|\n",
      "|(103383,[0,22415,...|         5.0|\n",
      "|(103383,[0,39858,...|         5.0|\n",
      "+--------------------+------------+\n",
      "only showing top 5 rows\n",
      "\n",
      "testDf\n",
      "+--------------------+------------+\n",
      "|            features|survey_score|\n",
      "+--------------------+------------+\n",
      "|(103383,[0,23915,...|         5.0|\n",
      "|(103383,[0,64252,...|         2.0|\n",
      "|(103383,[1,57156,...|         4.0|\n",
      "|(103383,[3,18671,...|         5.0|\n",
      "|(103383,[4,59597,...|         5.0|\n",
      "+--------------------+------------+\n",
      "only showing top 5 rows\n",
      "\n"
     ]
    }
   ],
   "source": [
    "trainDF, testDf = vector_data.randomSplit([0.85, 0.15], seed=12345)\n",
    "print('trainDF')\n",
    "trainDF.show(5)\n",
    "print('testDf')\n",
    "testDf.show(5)"
   ]
  },
  {
   "cell_type": "markdown",
   "metadata": {},
   "source": [
    "### Down Sampling"
   ]
  },
  {
   "cell_type": "code",
   "execution_count": 15,
   "metadata": {},
   "outputs": [
    {
     "name": "stdout",
     "output_type": "stream",
     "text": [
      "+------------+-----+\n",
      "|survey_score|count|\n",
      "+------------+-----+\n",
      "|         1.0|10808|\n",
      "|         4.0|17754|\n",
      "|         3.0| 7788|\n",
      "|         2.0| 3176|\n",
      "|         5.0|53153|\n",
      "+------------+-----+\n",
      "\n"
     ]
    }
   ],
   "source": [
    "trainDF.groupBy(\"survey_score\").count().show()"
   ]
  },
  {
   "cell_type": "code",
   "execution_count": 16,
   "metadata": {},
   "outputs": [],
   "source": [
    "# try\n",
    "from sklearn.utils import resample\n",
    "from numpy.random import randint\n",
    "from pyspark.sql.functions import isnan, when, count, col, rand, isnull, avg, stddev, udf, lit\n",
    "# Separate majority and minority classes\n",
    "# df_majority = trainDF[trainDF.survey_score==5]\n",
    "# df_minority1 = trainDF[trainDF.survey_score==1]\n",
    "# df_minority2 = trainDF[trainDF.survey_score==2]\n",
    "# df_minority3 = trainDF[trainDF.survey_score==3]\n",
    "# df_minority4 = trainDF[trainDF.survey_score==4]"
   ]
  },
  {
   "cell_type": "code",
   "execution_count": 17,
   "metadata": {},
   "outputs": [
    {
     "name": "stdout",
     "output_type": "stream",
     "text": [
      "0.2938564026646928 0.0597520365736647 0.40780688238315355 0.17888926439112313\n"
     ]
    }
   ],
   "source": [
    "# trainDF, testDf = vector_data.randomSplit([0.75, 0.25], seed=12345)\n",
    "def dowm_resample(base_features,ratio,class_field,base_class):\n",
    "    pos = base_features.filter(col(class_field)==base_class)\n",
    "    neg1 = base_features.filter(col(class_field)==1.0)\n",
    "    neg2 = base_features.filter(col(class_field)==5.0)\n",
    "    neg3 = base_features.filter(col(class_field)==3.0)\n",
    "    neg4 = base_features.filter(col(class_field)==4.0)\n",
    "    total_pos = pos.count()\n",
    "    total_neg1 = neg1.count()\n",
    "    total_neg2 = neg2.count()\n",
    "    total_neg3 = neg3.count()\n",
    "    total_neg4 = neg4.count()\n",
    "    fraction1=float(total_pos*ratio)/float(total_neg1)\n",
    "    fraction2=float(total_pos*ratio)/float(total_neg2)\n",
    "    fraction3=float(total_pos*ratio)/float(total_neg3)\n",
    "    fraction4=float(total_pos*ratio)/float(total_neg4)\n",
    "    print(fraction1, fraction2, fraction3, fraction4)\n",
    "    sampled1 = neg1.sample(False,fraction1)\n",
    "    sampled2 = neg2.sample(False,fraction2)\n",
    "    sampled3 = neg3.sample(False,fraction3)\n",
    "    sampled4 = neg4.sample(False,fraction4)\n",
    "    sampled1 = sampled1.union(pos)\n",
    "    sampled2 = sampled2.union(sampled1)\n",
    "    sampled3 = sampled3.union(sampled2)\n",
    "    return sampled4.union(sampled3)\n",
    "\n",
    "ratio = 1\n",
    "resampleDF = dowm_resample(trainDF, ratio, 'survey_score', 2.0)"
   ]
  },
  {
   "cell_type": "code",
   "execution_count": 18,
   "metadata": {},
   "outputs": [
    {
     "data": {
      "text/plain": [
       "array([[<matplotlib.axes._subplots.AxesSubplot object at 0x7f6793f30128>]],\n",
       "      dtype=object)"
      ]
     },
     "execution_count": 18,
     "metadata": {},
     "output_type": "execute_result"
    }
   ],
   "source": [
    "# trainDF.select('survey_score').toPandas().hist()\n",
    "resampleDF.select('survey_score').toPandas().hist()"
   ]
  },
  {
   "cell_type": "code",
   "execution_count": 19,
   "metadata": {},
   "outputs": [],
   "source": [
    "# tempDF1.select('survey_score').toPandas().hist()"
   ]
  },
  {
   "cell_type": "code",
   "execution_count": 20,
   "metadata": {},
   "outputs": [],
   "source": [
    "# tempDF1.printSchema()"
   ]
  },
  {
   "cell_type": "code",
   "execution_count": 21,
   "metadata": {},
   "outputs": [],
   "source": [
    "# tempDF1.groupBy(\"survey_score\").count().show()"
   ]
  },
  {
   "cell_type": "code",
   "execution_count": 22,
   "metadata": {},
   "outputs": [],
   "source": [
    "# print('Before sampling data numbers: ', trainDF.select('survey_score').count())\n",
    "# print('After sampling data numbers: ', tempDF.select('survey_score').count())\n",
    "# tempDF.printSchema()"
   ]
  },
  {
   "cell_type": "code",
   "execution_count": 23,
   "metadata": {},
   "outputs": [],
   "source": [
    "# print('original data')\n",
    "# trainDF.groupBy(\"survey_score\").count().show()\n",
    "# print('resampling data')\n",
    "# tempDF.groupBy(\"survey_score\").count().show()"
   ]
  },
  {
   "cell_type": "code",
   "execution_count": null,
   "metadata": {},
   "outputs": [],
   "source": [
    "# sratified sampling (keep ratio)\n",
    "# fractions = trainDF.select(\"survey_score\").distinct().withColumn(\"fraction\", lit(0.5)).rdd.collectAsMap()\n",
    "# sampled_df = trainDF.stat.sampleBy(\"survey_score\", fractions, seed=12345)\n",
    "# sampled_df.groupBy(\"survey_score\").count().show()"
   ]
  },
  {
   "cell_type": "markdown",
   "metadata": {},
   "source": [
    "### Up Sampling"
   ]
  },
  {
   "cell_type": "code",
   "execution_count": null,
   "metadata": {},
   "outputs": [],
   "source": [
    "# trainDF.groupBy(\"survey_score\").count().show()"
   ]
  },
  {
   "cell_type": "code",
   "execution_count": null,
   "metadata": {},
   "outputs": [],
   "source": [
    "# Separate majority and minority classes\n",
    "# df_majority = trainDF[trainDF.survey_score==5]\n",
    "# df_minority1 = trainDF[trainDF.survey_score==1]\n",
    "# df_minority2 = trainDF[trainDF.survey_score==2]\n",
    "# df_minority3 = trainDF[trainDF.survey_score==3]\n",
    "# df_minority4 = trainDF[trainDF.survey_score==4]"
   ]
  },
  {
   "cell_type": "code",
   "execution_count": null,
   "metadata": {},
   "outputs": [],
   "source": [
    "# df_majority.show(5)"
   ]
  },
  {
   "cell_type": "code",
   "execution_count": null,
   "metadata": {},
   "outputs": [],
   "source": [
    "def getrows(df, rownums=None):\n",
    "    return df.rdd.zipWithIndex().filter(lambda x: x[1] in rownums).map(lambda x: x[0])\n",
    "\n",
    "# getrows(df_majority, 1)"
   ]
  },
  {
   "cell_type": "code",
   "execution_count": null,
   "metadata": {},
   "outputs": [],
   "source": [
    "def up_sample(base_features, ratio, class_field, base_class, target_count):\n",
    "    # base_feature = trainDF\n",
    "    # class_field = survey_score\n",
    "    # base_class = df_minority\n",
    "    minor_count = base_class.count()\n",
    "    nums_up_sample = target_count - minor_count\n",
    "    for i in range(nums_up_sample):\n",
    "        randGen = randint(0, minor_count)\n",
    "        temp_row = base_class\n",
    "        base_class.union(base_class.row)\n",
    "    pass"
   ]
  },
  {
   "cell_type": "markdown",
   "metadata": {},
   "source": [
    "## Classification (not useful and time consuming)"
   ]
  },
  {
   "cell_type": "markdown",
   "metadata": {},
   "source": [
    "from pyspark.ml.classification import DecisionTreeClassifier\n",
    "\n",
    "treeModel = DecisionTreeClassifier(labelCol=labelCol, featuresCol='features', maxDepth=25)\n",
    "#### Fit the model\n",
    "modelNoTuning = treeModel.fit(trainDF)\n",
    "print(modelNoTuning)"
   ]
  },
  {
   "cell_type": "markdown",
   "metadata": {},
   "source": [
    "from pyspark.ml.evaluation import MulticlassClassificationEvaluator\n",
    "\n",
    "predDf = modelNoTuning.transform(testDf)\n",
    "\n",
    "evaluator = MulticlassClassificationEvaluator(\n",
    "    labelCol=labelCol, predictionCol=\"prediction\", metricName=\"accuracy\")\n",
    "accuracy = evaluator.evaluate(predDf)\n",
    "print(\"Test Acc = %g \" % (accuracy))"
   ]
  },
  {
   "cell_type": "markdown",
   "metadata": {},
   "source": [
    "predDf = modelNoTuning.transform(trainDF)\n",
    "\n",
    "evaluator = MulticlassClassificationEvaluator(\n",
    "    labelCol=labelCol, predictionCol=\"prediction\", metricName=\"accuracy\")\n",
    "accuracy = evaluator.evaluate(predDf)\n",
    "print(\"Train Acc = %g \" % (accuracy))"
   ]
  },
  {
   "cell_type": "markdown",
   "metadata": {},
   "source": [
    "from sklearn.metrics import confusion_matrix\n",
    "\n",
    "classes = predDf.select(labelCol).groupBy(labelCol)\\\n",
    "                        .count().sort('count', ascending=False).toPandas()\n",
    "classLabels = classes[labelCol].values.tolist()\n",
    "\n",
    "classLabels = ['score review: '+'%d' % (x+1) for x in range(len(classLabels))]\n",
    "\n",
    "yTrue = predDf.select(labelCol).toPandas()\n",
    "yPred = predDf.select('prediction').toPandas()\n",
    "cnfMatrix = confusion_matrix(yTrue, yPred)"
   ]
  },
  {
   "cell_type": "markdown",
   "metadata": {},
   "source": [
    "from sklearn.metrics import classification_report\n",
    "\n",
    "print (classification_report(yTrue, yPred, target_names=classLabels))"
   ]
  },
  {
   "cell_type": "markdown",
   "metadata": {},
   "source": [
    "## Regression (Predict score)"
   ]
  },
  {
   "cell_type": "code",
   "execution_count": 19,
   "metadata": {},
   "outputs": [],
   "source": [
    "from pyspark.ml.regression import DecisionTreeRegressor, GBTRegressor, GeneralizedLinearRegression\n",
    "from pyspark.ml.evaluation import RegressionEvaluator"
   ]
  },
  {
   "cell_type": "markdown",
   "metadata": {},
   "source": [
    "### GBTRegressor (Unbalanced Data)"
   ]
  },
  {
   "cell_type": "code",
   "execution_count": null,
   "metadata": {},
   "outputs": [],
   "source": [
    "# dt = DecisionTreeRegressor(featuresCol ='features', labelCol = labelCol)\n",
    "dt = GBTRegressor(featuresCol ='features', labelCol = labelCol)\n",
    "dt_model = dt.fit(trainDF)"
   ]
  },
  {
   "cell_type": "code",
   "execution_count": null,
   "metadata": {},
   "outputs": [
    {
     "name": "stdout",
     "output_type": "stream",
     "text": [
      "Root Mean Squared Error (RMSE) on test data = 1.3571\n"
     ]
    }
   ],
   "source": [
    "dt_predictions = dt_model.transform(testDf)\n",
    "dt_evaluator = RegressionEvaluator(labelCol=labelCol, predictionCol=\"prediction\", metricName=\"rmse\")\n",
    "rmse = dt_evaluator.evaluate(dt_predictions)\n",
    "print(\"Root Mean Squared Error (RMSE) on test data = %g\" % rmse)"
   ]
  },
  {
   "cell_type": "code",
   "execution_count": null,
   "metadata": {},
   "outputs": [],
   "source": [
    "# dt_predictions.select(\"prediction\",labelCol,\"features\").show()#.describe().toPandas().round(2).transpose()"
   ]
  },
  {
   "cell_type": "code",
   "execution_count": null,
   "metadata": {},
   "outputs": [
    {
     "data": {
      "text/plain": [
       "array([[<matplotlib.axes._subplots.AxesSubplot object at 0x7f3f822e2c88>]],\n",
       "      dtype=object)"
      ]
     },
     "execution_count": 34,
     "metadata": {},
     "output_type": "execute_result"
    },
    {
     "data": {
      "image/png": "[encoded data removed]",
      "text/plain": [
       "<Figure size 432x288 with 1 Axes>"
      ]
     },
     "metadata": {
      "needs_background": "light"
     },
     "output_type": "display_data"
    }
   ],
   "source": [
    "dt_predictions.select('survey_score').toPandas().hist()"
   ]
  },
  {
   "cell_type": "code",
   "execution_count": null,
   "metadata": {},
   "outputs": [
    {
     "data": {
      "text/plain": [
       "array([[<matplotlib.axes._subplots.AxesSubplot object at 0x7f3f84c0bd68>]],\n",
       "      dtype=object)"
      ]
     },
     "execution_count": 35,
     "metadata": {},
     "output_type": "execute_result"
    },
    {
     "data": {
      "image/png": "[encoded data removed]",
      "text/plain": [
       "<Figure size 432x288 with 1 Axes>"
      ]
     },
     "metadata": {
      "needs_background": "light"
     },
     "output_type": "display_data"
    }
   ],
   "source": [
    "dt_predictions.select('prediction').toPandas().hist()"
   ]
  },
  {
   "cell_type": "code",
   "execution_count": null,
   "metadata": {},
   "outputs": [
    {
     "name": "stdout",
     "output_type": "stream",
     "text": [
      "+------------------+------------+--------------------+\n",
      "|        prediction|survey_score|            features|\n",
      "+------------------+------------+--------------------+\n",
      "| 4.080125385960791|         5.0|(103383,[0,23915,...|\n",
      "| 4.080125385960791|         4.0|(103383,[0,52553,...|\n",
      "| 4.080125385960791|         2.0|(103383,[0,64252,...|\n",
      "| 4.080125385960791|         5.0|(103383,[1,42007,...|\n",
      "| 4.080125385960791|         4.0|(103383,[1,57156,...|\n",
      "| 4.080125385960791|         5.0|(103383,[1,68222,...|\n",
      "| 4.080125385960791|         1.0|(103383,[2,96250,...|\n",
      "| 4.080125385960791|         5.0|(103383,[3,18671,...|\n",
      "| 4.080125385960791|         5.0|(103383,[3,44023,...|\n",
      "| 4.080125385960791|         5.0|(103383,[4,59597,...|\n",
      "| 4.080125385960791|         5.0|(103383,[4,78887,...|\n",
      "|4.1215108021173155|         5.0|(103383,[5,19088,...|\n",
      "| 4.080125385960791|         5.0|(103383,[6,13001,...|\n",
      "| 4.080125385960791|         5.0|(103383,[6,81462,...|\n",
      "| 4.080125385960791|         5.0|(103383,[6,96239,...|\n",
      "| 4.080125385960791|         4.0|(103383,[7,7772,9...|\n",
      "| 4.080125385960791|         4.0|(103383,[7,7772,9...|\n",
      "| 4.080125385960791|         4.0|(103383,[7,7772,9...|\n",
      "| 4.080125385960791|         5.0|(103383,[7,30442,...|\n",
      "| 4.080125385960791|         5.0|(103383,[8,81293,...|\n",
      "+------------------+------------+--------------------+\n",
      "only showing top 20 rows\n",
      "\n"
     ]
    }
   ],
   "source": [
    "dt_predictions.select(\"prediction\",labelCol,\"features\").show()"
   ]
  },
  {
   "cell_type": "markdown",
   "metadata": {},
   "source": [
    "### GBTRegressor (Balanced Data)"
   ]
  },
  {
   "cell_type": "code",
   "execution_count": null,
   "metadata": {},
   "outputs": [],
   "source": [
    "# dt = DecisionTreeRegressor(featuresCol ='features', labelCol = labelCol)\n",
    "dt = GBTRegressor(featuresCol ='features', labelCol = labelCol)\n",
    "dt_model = dt.fit(resampleDF)"
   ]
  },
  {
   "cell_type": "code",
   "execution_count": null,
   "metadata": {},
   "outputs": [],
   "source": [
    "dt_predictions = dt_model.transform(testDf)\n",
    "dt_evaluator = RegressionEvaluator(labelCol=labelCol, predictionCol=\"prediction\", metricName=\"rmse\")\n",
    "rmse = dt_evaluator.evaluate(dt_predictions) \n",
    "print(\"Root Mean Squared Error (RMSE) on test data = %g\" % rmse)"
   ]
  },
  {
   "cell_type": "code",
   "execution_count": null,
   "metadata": {},
   "outputs": [],
   "source": [
    "dt_predictions.select('prediction').toPandas().hist()"
   ]
  },
  {
   "cell_type": "code",
   "execution_count": null,
   "metadata": {},
   "outputs": [],
   "source": [
    "dt_predictions.select(\"prediction\",labelCol,\"features\").show()"
   ]
  },
  {
   "cell_type": "markdown",
   "metadata": {},
   "source": [
    "### DecisionTreeRegressor (Unbalanced Data)"
   ]
  },
  {
   "cell_type": "code",
   "execution_count": null,
   "metadata": {},
   "outputs": [],
   "source": [
    "dt = DecisionTreeRegressor(featuresCol ='features', labelCol = labelCol)\n",
    "dt_model = dt.fit(trainDF)"
   ]
  },
  {
   "cell_type": "code",
   "execution_count": null,
   "metadata": {},
   "outputs": [],
   "source": [
    "dt_predictions = dt_model.transform(testDf)\n",
    "dt_evaluator = RegressionEvaluator(labelCol=labelCol, predictionCol=\"prediction\", metricName=\"rmse\")\n",
    "rmse = dt_evaluator.evaluate(dt_predictions)\n",
    "print(\"Root Mean Squared Error (RMSE) on test data = %g\" % rmse)"
   ]
  },
  {
   "cell_type": "code",
   "execution_count": null,
   "metadata": {},
   "outputs": [],
   "source": [
    "dt_predictions.select('prediction').toPandas().hist()"
   ]
  },
  {
   "cell_type": "code",
   "execution_count": null,
   "metadata": {},
   "outputs": [],
   "source": [
    "dt_predictions.select(\"prediction\",labelCol,\"features\").show()"
   ]
  },
  {
   "cell_type": "markdown",
   "metadata": {},
   "source": [
    "### DecisionTreeRegressor (Balanced Data)"
   ]
  },
  {
   "cell_type": "code",
   "execution_count": 20,
   "metadata": {},
   "outputs": [],
   "source": [
    "dt = DecisionTreeRegressor(featuresCol ='features', labelCol = labelCol)\n",
    "dt_model = dt.fit(resampleDF)"
   ]
  },
  {
   "cell_type": "code",
   "execution_count": 21,
   "metadata": {},
   "outputs": [
    {
     "name": "stdout",
     "output_type": "stream",
     "text": [
      "Root Mean Squared Error (RMSE) on test data = 1.71289\n"
     ]
    }
   ],
   "source": [
    "dt_predictions = dt_model.transform(testDf)\n",
    "dt_evaluator = RegressionEvaluator(labelCol=labelCol, predictionCol=\"prediction\", metricName=\"rmse\")\n",
    "rmse = dt_evaluator.evaluate(dt_predictions)\n",
    "print(\"Root Mean Squared Error (RMSE) on test data = %g\" % rmse)"
   ]
  },
  {
   "cell_type": "code",
   "execution_count": 22,
   "metadata": {},
   "outputs": [
    {
     "data": {
      "text/plain": [
       "array([[<matplotlib.axes._subplots.AxesSubplot object at 0x7f6791371e48>]],\n",
       "      dtype=object)"
      ]
     },
     "execution_count": 22,
     "metadata": {},
     "output_type": "execute_result"
    },
    {
     "data": {
      "image/png": "[encoded data removed]",
      "text/plain": [
       "<Figure size 432x288 with 1 Axes>"
      ]
     },
     "metadata": {
      "needs_background": "light"
     },
     "output_type": "display_data"
    }
   ],
   "source": [
    "dt_predictions.select('prediction').toPandas().hist()"
   ]
  },
  {
   "cell_type": "code",
   "execution_count": 23,
   "metadata": {},
   "outputs": [
    {
     "name": "stdout",
     "output_type": "stream",
     "text": [
      "+------------------+------------+--------------------+\n",
      "|        prediction|survey_score|            features|\n",
      "+------------------+------------+--------------------+\n",
      "|3.0176109300576583|         5.0|(103383,[0,23915,...|\n",
      "|3.0176109300576583|         2.0|(103383,[0,64252,...|\n",
      "|3.0176109300576583|         4.0|(103383,[1,57156,...|\n",
      "|3.0176109300576583|         5.0|(103383,[3,18671,...|\n",
      "|3.0176109300576583|         5.0|(103383,[4,59597,...|\n",
      "|3.0176109300576583|         5.0|(103383,[5,19088,...|\n",
      "|3.0176109300576583|         5.0|(103383,[6,13001,...|\n",
      "|3.0176109300576583|         5.0|(103383,[6,81462,...|\n",
      "|3.0176109300576583|         5.0|(103383,[6,96239,...|\n",
      "|3.0176109300576583|         4.0|(103383,[7,7772,9...|\n",
      "|3.0176109300576583|         5.0|(103383,[7,30442,...|\n",
      "|3.0176109300576583|         4.0|(103383,[10,66084...|\n",
      "|3.0176109300576583|         2.0|(103383,[12,18156...|\n",
      "|3.0176109300576583|         2.0|(103383,[12,18156...|\n",
      "|3.0176109300576583|         4.0|(103383,[12,83069...|\n",
      "|3.0176109300576583|         5.0|(103383,[19,11994...|\n",
      "|3.0176109300576583|         5.0|(103383,[23,87414...|\n",
      "|3.0176109300576583|         4.0|(103383,[24,16105...|\n",
      "|3.0176109300576583|         5.0|(103383,[24,85968...|\n",
      "|3.0176109300576583|         5.0|(103383,[29,65795...|\n",
      "+------------------+------------+--------------------+\n",
      "only showing top 20 rows\n",
      "\n"
     ]
    }
   ],
   "source": [
    "dt_predictions.select(\"prediction\",labelCol,\"features\").show()"
   ]
  },
  {
   "cell_type": "code",
   "execution_count": null,
   "metadata": {},
   "outputs": [],
   "source": []
  }
 ],
 "metadata": {
  "kernelspec": {
   "display_name": "Python 3",
   "language": "python",
   "name": "python3"
  },
  "language_info": {
   "codemirror_mode": {
    "name": "ipython",
    "version": 3
   },
   "file_extension": ".py",
   "mimetype": "text/x-python",
   "name": "python",
   "nbconvert_exporter": "python",
   "pygments_lexer": "ipython3",
   "version": "3.6.0"
  }
 },
 "nbformat": 4,
 "nbformat_minor": 2
}
